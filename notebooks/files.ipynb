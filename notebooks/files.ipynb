{
 "cells": [
  {
   "cell_type": "code",
   "execution_count": 5,
   "metadata": {},
   "outputs": [],
   "source": [
    "from os import path\n",
    "\n",
    "\n",
    "def write_results(results: list[tuple[int, float, int]],\n",
    "                  file_path: str):\n",
    "    # write solutions to file\n",
    "    with open(file_path, \"w\") as file:\n",
    "        # file.write(str(params) + \"\\n\")\n",
    "        for result in results:\n",
    "            file.write(str(result) + \"\\n\")\n",
    "\n",
    "results = [\n",
    "    (1, 1, 30.0, 0),\n",
    "    (1, 2, 30.0, 20),\n",
    "]\n",
    "\n",
    "path, ext = path.splitext(path.basename(\"out/params.txt\"))\n",
    "\n",
    "write_results(results, path)\n"
   ]
  },
  {
   "cell_type": "code",
   "execution_count": 1,
   "metadata": {},
   "outputs": [],
   "source": [
    "from os import makedirs, path, listdir\n",
    "\n",
    "\n",
    "directory = '../data/' \n",
    "datasets = [path.join(directory, file) for file in listdir(directory) if path.isfile(path.join(directory, file))]\n",
    "for dataset in datasets:\n",
    "    filename = path.splitext(path.basename(dataset))[0]\n",
    "    try:\n",
    "        makedirs(f\"../out/{filename}\")\n",
    "    except:\n",
    "        print(f\"Can't create folder for dataset {filename}\")\n"
   ]
  },
  {
   "cell_type": "code",
   "execution_count": 11,
   "metadata": {},
   "outputs": [
    {
     "name": "stdout",
     "output_type": "stream",
     "text": [
      "out/comp01/scores_comp01_20231206-160504.txt\n"
     ]
    }
   ],
   "source": [
    "import os\n",
    "import time\n",
    "\n",
    "\n",
    "def write_results(solution_path: str):\n",
    "    timestamp = time.strftime(\"%Y%m%d-%H%M%S\")\n",
    "    filename, ext = os.path.splitext(os.path.basename(solution_path))\n",
    "    results_path = f\"out/{filename}/scores_{filename}_{timestamp}.res\"\n",
    "    print(results_path)\n",
    "\n",
    "\n",
    "filename = \"comp01\"\n",
    "output_path = f\"out/{filename}/{filename}.ctt\"\n",
    "solution_path = output_path\n",
    "\n",
    "write_results(solution_path)\n"
   ]
  }
 ],
 "metadata": {
  "kernelspec": {
   "display_name": "Python 3",
   "language": "python",
   "name": "python3"
  },
  "language_info": {
   "codemirror_mode": {
    "name": "ipython",
    "version": 3
   },
   "file_extension": ".py",
   "mimetype": "text/x-python",
   "name": "python",
   "nbconvert_exporter": "python",
   "pygments_lexer": "ipython3",
   "version": "3.10.12"
  }
 },
 "nbformat": 4,
 "nbformat_minor": 2
}
