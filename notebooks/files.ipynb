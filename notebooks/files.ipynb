{
 "cells": [
  {
   "cell_type": "code",
   "execution_count": 5,
   "metadata": {},
   "outputs": [],
   "source": [
    "from os import path\n",
    "\n",
    "\n",
    "def write_results(results: list[tuple[int, float, int]],\n",
    "                  file_path: str):\n",
    "    # write solutions to file\n",
    "    with open(file_path, \"w\") as file:\n",
    "        # file.write(str(params) + \"\\n\")\n",
    "        for result in results:\n",
    "            file.write(str(result) + \"\\n\")\n",
    "\n",
    "results = [\n",
    "    (1, 1, 30.0, 0),\n",
    "    (1, 2, 30.0, 20),\n",
    "]\n",
    "\n",
    "path, ext = path.splitext(path.basename(\"out/params.txt\"))\n",
    "\n",
    "write_results(results, path)"
   ]
  }
 ],
 "metadata": {
  "kernelspec": {
   "display_name": "Python 3",
   "language": "python",
   "name": "python3"
  },
  "language_info": {
   "codemirror_mode": {
    "name": "ipython",
    "version": 3
   },
   "file_extension": ".py",
   "mimetype": "text/x-python",
   "name": "python",
   "nbconvert_exporter": "python",
   "pygments_lexer": "ipython3",
   "version": "3.11.5"
  }
 },
 "nbformat": 4,
 "nbformat_minor": 2
}
